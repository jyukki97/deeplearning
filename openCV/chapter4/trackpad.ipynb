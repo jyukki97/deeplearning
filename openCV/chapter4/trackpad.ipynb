{
 "cells": [
  {
   "cell_type": "code",
   "execution_count": 1,
   "metadata": {},
   "outputs": [],
   "source": [
    "import cv2 as cv\n",
    "\n",
    "def on_trackbar(x):\n",
    "    pass\n",
    "\n",
    "cv.namedWindow('Canny')\n",
    "\n",
    "cv.createTrackbar('low threshold', 'Canny', 0, 1000, on_trackbar)\n",
    "cv.createTrackbar('high threshold', 'Canny', 0, 1000, on_trackbar)\n",
    "\n",
    "cv.setTrackbarPos('low threshold', 'Canny', 50)\n",
    "cv.setTrackbarPos('high threshold', 'Canny', 150)\n",
    "\n",
    "img_gray = cv.imread('orange.png', cv.IMREAD_GRAYSCALE)\n",
    "\n",
    "while(1):\n",
    "    low = cv.getTrackbarPos('low threshold', 'Canny')\n",
    "    high = cv.getTrackbarPos('high threshold', 'Canny')\n",
    "    \n",
    "    img_canny = cv.Canny(img_gray, low, high)\n",
    "    \n",
    "    cv.imshow('Canny', img_canny)\n",
    "    \n",
    "    if cv.waitKey(1) & 0xFF == 27:\n",
    "        break\n",
    "        \n",
    "cv.destroyAllWindows()"
   ]
  }
 ],
 "metadata": {
  "kernelspec": {
   "display_name": "Python 3",
   "language": "python",
   "name": "python3"
  },
  "language_info": {
   "codemirror_mode": {
    "name": "ipython",
    "version": 3
   },
   "file_extension": ".py",
   "mimetype": "text/x-python",
   "name": "python",
   "nbconvert_exporter": "python",
   "pygments_lexer": "ipython3",
   "version": "3.8.5"
  }
 },
 "nbformat": 4,
 "nbformat_minor": 4
}
