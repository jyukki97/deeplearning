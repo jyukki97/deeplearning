{
 "cells": [
  {
   "cell_type": "code",
   "execution_count": 2,
   "metadata": {},
   "outputs": [],
   "source": [
    "import cv2 as cv\n",
    "import sys\n",
    "\n",
    "cap = cv.VideoCapture(0)\n",
    "if cap.isOpened() == False:\n",
    "    print(\"카메라를 열 수 없습니다.\")\n",
    "    sys.exit(1)\n",
    "    \n",
    "step = 1\n",
    "\n",
    "while(True):\n",
    "    ret, img_frame = cap.read()\n",
    "    \n",
    "    if ret == False:\n",
    "        print(\"캡처 실패\")\n",
    "        break\n",
    "    \n",
    "    if step > 1:\n",
    "        img_frame = cv.cvtColor(img_frame, cv.COLOR_BGR2GRAY)\n",
    "        \n",
    "    if step > 2:\n",
    "        img_frame = cv.Canny(img_frame, 30, 90)\n",
    "    \n",
    "    cv.imshow('Result', img_frame)\n",
    "    \n",
    "    key = cv.waitKey(1)\n",
    "    \n",
    "    if(key == 27):\n",
    "        break\n",
    "    elif key == ord('1'):\n",
    "        step = 1\n",
    "    elif key == ord('2'):\n",
    "        step = 2\n",
    "    elif key == ord('3'):\n",
    "        step = 3\n",
    "\n",
    "cap.release()\n",
    "cv.destroyAllWindows()"
   ]
  }
 ],
 "metadata": {
  "kernelspec": {
   "display_name": "Python 3",
   "language": "python",
   "name": "python3"
  },
  "language_info": {
   "codemirror_mode": {
    "name": "ipython",
    "version": 3
   },
   "file_extension": ".py",
   "mimetype": "text/x-python",
   "name": "python",
   "nbconvert_exporter": "python",
   "pygments_lexer": "ipython3",
   "version": "3.8.5"
  }
 },
 "nbformat": 4,
 "nbformat_minor": 4
}
