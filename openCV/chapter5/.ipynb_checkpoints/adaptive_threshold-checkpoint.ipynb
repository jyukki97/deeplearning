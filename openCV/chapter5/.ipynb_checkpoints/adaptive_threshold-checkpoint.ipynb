{
 "cells": [
  {
   "cell_type": "code",
   "execution_count": 1,
   "metadata": {},
   "outputs": [
    {
     "data": {
      "text/plain": [
       "-1"
      ]
     },
     "execution_count": 1,
     "metadata": {},
     "output_type": "execute_result"
    }
   ],
   "source": [
    "import cv2 as cv\n",
    "import sys\n",
    "\n",
    "img_color = cv.imread('copy.png', cv.IMREAD_COLOR)\n",
    "if img_color is None:\n",
    "    print(\"이미지 파일을 읽을 수 없습니다.\")\n",
    "    sys.exit(1)\n",
    "    \n",
    "img_gray = cv.cvtColor(img_color, cv.COLOR_BGR2GRAY)\n",
    "\n",
    "img_binary = cv.adaptiveThreshold(img_gray, 255, cv.ADAPTIVE_THRESH_MEAN_C, cv.THRESH_BINARY, 5, 4)\n",
    "\n",
    "cv.imshow('Grayscale', img_gray)\n",
    "cv.imshow('Binary', img_binary)\n",
    "\n",
    "cv.waitKey(0)"
   ]
  }
 ],
 "metadata": {
  "kernelspec": {
   "display_name": "Python 3",
   "language": "python",
   "name": "python3"
  },
  "language_info": {
   "codemirror_mode": {
    "name": "ipython",
    "version": 3
   },
   "file_extension": ".py",
   "mimetype": "text/x-python",
   "name": "python",
   "nbconvert_exporter": "python",
   "pygments_lexer": "ipython3",
   "version": "3.8.5"
  }
 },
 "nbformat": 4,
 "nbformat_minor": 4
}
