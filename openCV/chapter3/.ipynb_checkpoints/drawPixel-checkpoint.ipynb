{
 "cells": [
  {
   "cell_type": "code",
   "execution_count": 2,
   "metadata": {},
   "outputs": [],
   "source": [
    "import cv2 as cv\n",
    "import numpy as np\n",
    "\n",
    "img_color = cv.imread(\"apple.png\", cv.IMREAD_COLOR)\n",
    "\n",
    "height, width = img_color.shape[:2]\n",
    "\n",
    "img_gray = np.zeros((height, width), np.uint8)\n",
    "\n",
    "for y in range(0, height):\n",
    "    for x in range(0, width):\n",
    "        b = img_color.item(y, x, 0)\n",
    "        g = img_color.item(y, x, 1)\n",
    "        r = img_color.item(y, x, 2)\n",
    "        \n",
    "        gray = int((r + g + b) / 3.0)\n",
    "        \n",
    "        img_gray.itemset(y,x,gray)\n",
    "        \n",
    "img_result = cv.cvtColor(img_gray, cv.COLOR_GRAY2BGR)\n",
    "\n",
    "for y in range(150, 201):\n",
    "    for x in range(200, 251):\n",
    "        img_result.itemset(y,x,0, 0)\n",
    "        img_result.itemset(y,x,1, 255)\n",
    "        img_result.itemset(y,x,2, 0)\n",
    "        \n",
    "cv.imshow('color', img_color)\n",
    "cv.imshow('result', img_result)\n",
    "\n",
    "cv.waitKey(0)\n",
    "\n",
    "cv.destroyAllWindows()"
   ]
  },
  {
   "cell_type": "code",
   "execution_count": 4,
   "metadata": {},
   "outputs": [],
   "source": [
    "import cv2 as cv\n",
    "import numpy as np\n",
    "\n",
    "img_color = cv.imread(\"apple.png\", cv.IMREAD_COLOR)\n",
    "\n",
    "img_b, img_g, img_r = cv.split(img_color)\n",
    "\n",
    "img_result = cv.merge((img_b, img_r, img_g))\n",
    "\n",
    "cv.imshow('color', img_color)\n",
    "cv.imshow('result', img_result)\n",
    "cv.imshow('B', img_b)\n",
    "cv.imshow('G', img_g)\n",
    "cv.imshow('R', img_r)\n",
    "\n",
    "cv.waitKey(0)\n",
    "\n",
    "cv.destroyAllWindows()"
   ]
  }
 ],
 "metadata": {
  "kernelspec": {
   "display_name": "Python 3",
   "language": "python",
   "name": "python3"
  },
  "language_info": {
   "codemirror_mode": {
    "name": "ipython",
    "version": 3
   },
   "file_extension": ".py",
   "mimetype": "text/x-python",
   "name": "python",
   "nbconvert_exporter": "python",
   "pygments_lexer": "ipython3",
   "version": "3.8.5"
  }
 },
 "nbformat": 4,
 "nbformat_minor": 4
}
