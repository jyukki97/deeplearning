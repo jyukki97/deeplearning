{
 "cells": [
  {
   "cell_type": "code",
   "execution_count": 1,
   "metadata": {},
   "outputs": [
    {
     "name": "stdout",
     "output_type": "stream",
     "text": [
      "2086661817728 2086661817728\n",
      "2086661816768 2086661817728\n"
     ]
    },
    {
     "data": {
      "text/plain": [
       "-1"
      ]
     },
     "execution_count": 1,
     "metadata": {},
     "output_type": "execute_result"
    }
   ],
   "source": [
    "import cv2 as cv\n",
    "\n",
    "img_gray = cv.imread('test.jpg', cv.IMREAD_GRAYSCALE)\n",
    "\n",
    "img_copyed1 = img_gray\n",
    "\n",
    "print(id(img_gray), id(img_copyed1))\n",
    "\n",
    "cv.line(img_gray, (0,0), (100,100), 0, 10)\n",
    "\n",
    "ret, img_gray = cv.threshold(img_gray, 127, 255, cv.THRESH_BINARY)\n",
    "\n",
    "print(id(img_gray), id(img_copyed1))\n",
    "\n",
    "cv.imshow('img_gray', img_gray)\n",
    "cv.imshow('img_copyed1', img_copyed1)\n",
    "\n",
    "cv.waitKey(0)"
   ]
  },
  {
   "cell_type": "code",
   "execution_count": 6,
   "metadata": {
    "scrolled": true
   },
   "outputs": [
    {
     "name": "stdout",
     "output_type": "stream",
     "text": [
      "True\n",
      "False\n"
     ]
    },
    {
     "data": {
      "text/plain": [
       "-1"
      ]
     },
     "execution_count": 6,
     "metadata": {},
     "output_type": "execute_result"
    }
   ],
   "source": [
    "import cv2 as cv\n",
    "\n",
    "img_gray = cv.imread('test.jpg', cv.IMREAD_GRAYSCALE)\n",
    "\n",
    "img_sub1 = img_gray[20:20+600,20:20+600]\n",
    "print(img_sub1.base is img_gray)\n",
    "\n",
    "cv.line(img_gray, (0,0), (100,100), 0, 10)\n",
    "\n",
    "ret, img_gray = cv.threshold(img_gray, 127, 255, cv.THRESH_BINARY)\n",
    "\n",
    "print(img_sub1.base is img_gray)\n",
    "\n",
    "cv.imshow('img_gray', img_gray)\n",
    "cv.imshow('img_sub1', img_sub1)\n",
    "\n",
    "cv.waitKey(0)"
   ]
  },
  {
   "cell_type": "code",
   "execution_count": 7,
   "metadata": {},
   "outputs": [
    {
     "name": "stdout",
     "output_type": "stream",
     "text": [
      "2086643341712 2086661183248\n",
      "2086661183488 2086661183248\n"
     ]
    },
    {
     "data": {
      "text/plain": [
       "-1"
      ]
     },
     "execution_count": 7,
     "metadata": {},
     "output_type": "execute_result"
    }
   ],
   "source": [
    "import cv2 as cv\n",
    "\n",
    "img_gray = cv.imread('test.jpg', cv.IMREAD_GRAYSCALE)\n",
    "\n",
    "img_copyed1 = img_gray.copy()\n",
    "\n",
    "print(id(img_gray), id(img_copyed1))\n",
    "\n",
    "cv.line(img_gray, (0,0), (100,100), 0, 10)\n",
    "\n",
    "ret, img_gray = cv.threshold(img_gray, 127, 255, cv.THRESH_BINARY)\n",
    "\n",
    "print(id(img_gray), id(img_copyed1))\n",
    "\n",
    "cv.imshow('img_gray', img_gray)\n",
    "cv.imshow('img_copyed1', img_copyed1)\n",
    "\n",
    "cv.waitKey(0)"
   ]
  }
 ],
 "metadata": {
  "kernelspec": {
   "display_name": "Python 3",
   "language": "python",
   "name": "python3"
  },
  "language_info": {
   "codemirror_mode": {
    "name": "ipython",
    "version": 3
   },
   "file_extension": ".py",
   "mimetype": "text/x-python",
   "name": "python",
   "nbconvert_exporter": "python",
   "pygments_lexer": "ipython3",
   "version": "3.8.5"
  }
 },
 "nbformat": 4,
 "nbformat_minor": 4
}
