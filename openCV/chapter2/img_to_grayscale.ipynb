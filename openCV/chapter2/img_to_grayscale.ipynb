{
 "cells": [
  {
   "cell_type": "code",
   "execution_count": 1,
   "metadata": {},
   "outputs": [],
   "source": [
    "import cv2\n",
    "\n",
    "img_color = cv2.imread(\"test.jpg\", cv2.IMREAD_COLOR)\n",
    "\n",
    "if img_color is None:\n",
    "    print(\"이미지 파일을 읽을 수 없습니다.\")\n",
    "    exit(1)\n",
    "\n",
    "cv2.namedWindow('Color')\n",
    "cv2.imshow('Color', img_color)\n",
    "\n",
    "cv2.waitKey(0)\n",
    "\n",
    "img_gray = cv2.cvtColor(img_color, cv2.COLOR_BGR2GRAY)\n",
    "\n",
    "cv2.imshow('Grayscale', img_gray)\n",
    "\n",
    "cv2.imwrite('grayscale.jpg', img_gray)\n",
    "\n",
    "cv2.waitKey(0)\n",
    "cv2.destroyAllWindows()"
   ]
  }
 ],
 "metadata": {
  "kernelspec": {
   "display_name": "Python 3",
   "language": "python",
   "name": "python3"
  },
  "language_info": {
   "codemirror_mode": {
    "name": "ipython",
    "version": 3
   },
   "file_extension": ".py",
   "mimetype": "text/x-python",
   "name": "python",
   "nbconvert_exporter": "python",
   "pygments_lexer": "ipython3",
   "version": "3.8.5"
  }
 },
 "nbformat": 4,
 "nbformat_minor": 4
}
