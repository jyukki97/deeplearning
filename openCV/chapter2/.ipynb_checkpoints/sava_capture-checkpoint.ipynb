{
 "cells": [
  {
   "cell_type": "code",
   "execution_count": 1,
   "metadata": {},
   "outputs": [],
   "source": [
    "import cv2 as cv\n",
    "\n",
    "cap = cv.VideoCapture(0, cv.CAP_DSHOW)\n",
    "\n",
    "if cap.isOpened() == False:\n",
    "    print(\"카메라를 열 수 없습니다.\")\n",
    "    exit(1)\n",
    "    \n",
    "ret, img_frame = cap.read()\n",
    "\n",
    "if ret == False:\n",
    "    print(\"캡처 실패\")\n",
    "    exit(1)\n",
    "\n",
    "codec = cv.VideoWriter_fourcc('M','J','P','G')\n",
    "\n",
    "fps = 30.0\n",
    "\n",
    "h,w = img_frame.shape[:2]\n",
    "\n",
    "writer = cv.VideoWriter(\"output.avi\", codec, fps, (w,h))\n",
    "\n",
    "if writer.isOpened() == False:\n",
    "    print(\"동영상 파일을 준비할 수 없습니다.\")\n",
    "    exit(1)\n",
    "    \n",
    "while(True):\n",
    "    ret, img_frame = cap.read()\n",
    "\n",
    "    if ret == False:\n",
    "        print(\"캡처 실패\")\n",
    "        exit(1)\n",
    "        \n",
    "    writer.write(img_frame)\n",
    "    \n",
    "    cv.imshow('Color', img_frame)\n",
    "    \n",
    "    key = cv.waitKey(1)\n",
    "    if key == 27:\n",
    "        break\n",
    "        \n",
    "cap.release()\n",
    "writer.release()\n",
    "\n",
    "cv.destroyAllWindows()"
   ]
  }
 ],
 "metadata": {
  "kernelspec": {
   "display_name": "Python 3",
   "language": "python",
   "name": "python3"
  },
  "language_info": {
   "codemirror_mode": {
    "name": "ipython",
    "version": 3
   },
   "file_extension": ".py",
   "mimetype": "text/x-python",
   "name": "python",
   "nbconvert_exporter": "python",
   "pygments_lexer": "ipython3",
   "version": "3.8.5"
  }
 },
 "nbformat": 4,
 "nbformat_minor": 4
}
