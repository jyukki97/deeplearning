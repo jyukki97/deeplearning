{
 "cells": [
  {
   "cell_type": "code",
   "execution_count": 2,
   "metadata": {},
   "outputs": [
    {
     "name": "stdout",
     "output_type": "stream",
     "text": [
      "동영상 파일 읽기 완료\n"
     ]
    }
   ],
   "source": [
    "import cv2 as cv\n",
    "\n",
    "cap = cv.VideoCapture(\"output.avi\")\n",
    "\n",
    "if cap.isOpened() == False:\n",
    "    print(\"동영상을 열 수 없습니다.\")\n",
    "    exit(1)\n",
    "\n",
    "while(True):\n",
    "    ret, img_frame = cap.read()\n",
    "    \n",
    "    if ret == False:\n",
    "        print(\"동영상 파일 읽기 완료\")\n",
    "        break\n",
    "    \n",
    "    cv.imshow('Color', img_frame)\n",
    "    \n",
    "    key = cv.waitKey(25)\n",
    "    if key == 27:\n",
    "        break\n",
    "    \n",
    "cap.release()\n",
    "cv.destroyAllWindows()"
   ]
  }
 ],
 "metadata": {
  "kernelspec": {
   "display_name": "Python 3",
   "language": "python",
   "name": "python3"
  },
  "language_info": {
   "codemirror_mode": {
    "name": "ipython",
    "version": 3
   },
   "file_extension": ".py",
   "mimetype": "text/x-python",
   "name": "python",
   "nbconvert_exporter": "python",
   "pygments_lexer": "ipython3",
   "version": "3.8.5"
  }
 },
 "nbformat": 4,
 "nbformat_minor": 4
}
