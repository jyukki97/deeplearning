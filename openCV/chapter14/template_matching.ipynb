{
 "cells": [
  {
   "cell_type": "code",
   "execution_count": 2,
   "metadata": {},
   "outputs": [
    {
     "name": "stdout",
     "output_type": "stream",
     "text": [
      "11\n"
     ]
    },
    {
     "data": {
      "text/plain": [
       "-1"
      ]
     },
     "execution_count": 2,
     "metadata": {},
     "output_type": "execute_result"
    }
   ],
   "source": [
    "import cv2 as cv\n",
    "import numpy as np\n",
    "\n",
    "def notInList(newObject):\n",
    "    for detectedObject in detectedObjects:\n",
    "        a = newObject[0]-detectedObject[0]\n",
    "        b = newObject[1]-detectedObject[1]\n",
    "        if np.sqrt(a*a+b*b) < 5:\n",
    "            return False\n",
    "    return True\n",
    "\n",
    "detectedObjects = []\n",
    "\n",
    "img_rgb = cv.imread('test.jpg')\n",
    "img_gray = cv.cvtColor(img_rgb, cv.COLOR_BGR2GRAY)\n",
    "\n",
    "img_template = cv.imread('template.jpg', cv.IMREAD_GRAYSCALE)\n",
    "w,h = img_template.shape[:2]\n",
    "\n",
    "res = cv.matchTemplate(img_gray, img_template, cv.TM_CCOEFF_NORMED)\n",
    "\n",
    "count = 0\n",
    "for x in range(res.shape[1]):\n",
    "    for y in range(res.shape[0]):\n",
    "        if res[y,x] > 0.9 and notInList((x,y)):\n",
    "            detectedObjects.append((x,y))\n",
    "            cv.rectangle(img_rgb, (x,y), (x+w,y+h), [0,0,255], 1)\n",
    "            count = count + 1\n",
    "            \n",
    "print(count)\n",
    "cv.imshow('result', img_rgb)\n",
    "cv.waitKey(0)"
   ]
  }
 ],
 "metadata": {
  "kernelspec": {
   "display_name": "Python 3",
   "language": "python",
   "name": "python3"
  },
  "language_info": {
   "codemirror_mode": {
    "name": "ipython",
    "version": 3
   },
   "file_extension": ".py",
   "mimetype": "text/x-python",
   "name": "python",
   "nbconvert_exporter": "python",
   "pygments_lexer": "ipython3",
   "version": "3.8.5"
  }
 },
 "nbformat": 4,
 "nbformat_minor": 4
}
